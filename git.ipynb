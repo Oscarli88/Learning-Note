{
 "cells": [
  {
   "cell_type": "markdown",
   "metadata": {},
   "source": [
    "# Git 使用小结\n",
    "---\n",
    "\n",
    "Referrence：[Git教程 - 廖雪峰的官方网站](https://www.liaoxuefeng.com/wiki/0013739516305929606dd18361248578c67b8067c8c017b000)\n",
    "\n",
    "## 1. 安装\n",
    "Linux\n",
    "> sudo apt-get install git\n",
    "\n",
    "Windows\n",
    "> 去官网[下载镜像](https://git-scm.com/downloads)，直接安装即可\n",
    "\n",
    "### 安装好后自报家门：设置名字和Email地址\n",
    "\n",
    "```\n",
    "git config --global user.name \"Your Name\"\n",
    "git config --global user.email \"email@example.com\"\n",
    "```"
   ]
  },
  {
   "cell_type": "markdown",
   "metadata": {},
   "source": [
    "---\n",
    "## 2. 创建Repository（仓库）\n",
    "#### 2.1 新建目录\n",
    "```\n",
    " $ mkdir learngit\n",
    " $ cd learngit\n",
    " $ pwd\n",
    "/Users/michael/learngit\n",
    "```\n",
    "\n",
    "#### 2.2 目录初始化：将这个目录编程Git可以管理的仓库\n",
    "```\n",
    "$ git init\n",
    "Initialized empty Git repository in /Users/michael/learngit/.git\n",
    "```\n",
    "    如果你没有看到.git目录，那是因为这个目录默认是隐藏的，用 **ls -ah** 命令就可以看见。"
   ]
  },
  {
   "cell_type": "markdown",
   "metadata": {},
   "source": [
    "---\n",
    "## 3. 把文件添加到Repository\n",
    "### 3.1 新建txt文件 readme.txt\n",
    "### 3.2 将文件添加到工作区\n",
    "> ** git add readme.txt**       (单文件)  \n",
    "> ** git add file2.txt file3.tx** （多文件）  \n",
    " \n",
    " \n",
    "   -  其他添加：[详解git add . 和git add \\*的区别](http://bbs.iaixue.com/forum.php?mod=viewthread&tid=1605)  \n",
    "   -  输出没有任何显示，这就对了，Unix的哲学是“没有消息就是好消息”，说明添加成功。  \n",
    " \n",
    "\n",
    "### 3.3 commit提交给仓库\n",
    "> ** git commit -m \"wrote a readme file\"**\n",
    "\n",
    "      [master (root-commit) cb926e7] wrote a readme file  \n",
    "      1 file changed, 2 insertions(+)   \n",
    "      create mode 100644 readme.txt"
   ]
  },
  {
   "cell_type": "markdown",
   "metadata": {},
   "source": [
    "---\n",
    "## 4. 状态检查\n",
    "查看当前仓库的状态，检查有无add，有无commit\n",
    "> **git status** \n",
    "\n",
    "查看modified的不同\n",
    "> **git diff**  "
   ]
  },
  {
   "cell_type": "markdown",
   "metadata": {},
   "source": [
    "## 5. 版本回退\n",
    "1. 查看版本日志\n",
    "> git log     # 多行显示    \n",
    " git log --pretty=oneline  #一行显示\n",
    "\n",
    "2. 回退操作\n",
    "> git reset --hard HEAD^    \n",
    " git reset --hard 3628164\n",
    " \n",
    "  - Git必须知道当前版本是哪个版本   \n",
    "  - 在Git中，用HEAD表示当前版本，也就是最新的提交3628164...882e1e0（注意我的提交ID和你的肯定不一样）   \n",
    "> 上一个版本就是HEAD^   \n",
    " 上上一个版本就是HEAD^^   \n",
    " 当然往上100个版本写100个^比较容易数不过来，所以写成HEAD~100   \n",
    "\n",
    "3. 命令记录\n",
    ">  git reflog"
   ]
  },
  {
   "cell_type": "markdown",
   "metadata": {
    "collapsed": true
   },
   "source": [
    "---\n",
    "## 6. 远程库——将本地库上传到GitHub\n",
    "\n",
    "\n",
    "### 6.1 【首次使用时】创建本机SSH key并在GitHub上创建该公钥  \n",
    "     每台电脑要跟GitHub服务器的远程连接时走的是SSH加密连接，服务器需要有该台主机的特定邮箱（用户）的SSH key，以防别人冒充你（的邮箱）连接服务器，每台要上传的主机都需要这么来一下。   \n",
    "     \n",
    "   1. 【本地】在本机主用户目录下（Git Bash默认目录），在Git Bash中键入以下命令，无需密码（有也可以）：\n",
    "     > **ssh-keygen -t rsa -C \"mb65411@umac.mo\"**\n",
    "   2. 【本地】之后在生成的./ssh文件夹下产生两个密钥\n",
    "    > 私钥 （私留）id_rsa  \n",
    "    > 公玥（公开） id_rsa.pub  \n",
    "   3. 【GitHub】在GitHub中新建一SSH key，自定义title，并将 **id_rsa.pub** 中内容复制进去即可\n",
    "\n",
    "### 6.2 GitHub上先新建一仓库（最好与当前本地仓库同名）\n",
    "### 6.3 远程连接\n",
    "\n",
    "  > **git remote add origin git@github.com:ZhangRaymond/learngit.git**\n",
    "\n",
    "   - GitHub账户名一定写对，否则你在本地关联的就是别人的远程库，关联没有问题，但是以后推送是推不上去的，因为我的SSH Key公钥不在对方的账户列表中  \n",
    "   - 远程库的名字就是**origin**，这是Git默认的叫法，也可以改成别的，但是origin这个名字一看就知道是远程库。\n",
    "\n",
    "### 6.4 本地库推动到远程库\n",
    "> **git push *-u* origin master **    (首次)   \n",
    "**git push origin maste**     （之后）  \n",
    "\n",
    "- 由于远程库是空的，我们第一次推送master分支时，加上了**-u**参数，Git不但会把本地的master分支内容推送的远程新的master分支，还会把本地的master分支和远程的master分支关联起来，在以后的推送或者拉取时就可以简化命令。\n",
    "\n"
   ]
  },
  {
   "cell_type": "markdown",
   "metadata": {},
   "source": [
    "## 7. 远程库——从GitHub上克隆库下来\n",
    "> git clone git@github.com:ZhangRaymond/First.git  \n",
    "git clone https://github.com/ZhangRaymond/First.git\n",
    "\n",
    "- 实际上，Git支持多种协议，默认的**git://** 使用ssh，但也可以使用https等其他协议。\n",
    "- 使用https除了速度慢以外，还有个最大的麻烦是每次推送都必须输入口令，但是在某些只开放http端口的公司内部就无法使用ssh协议而只能用https。"
   ]
  },
  {
   "cell_type": "markdown",
   "metadata": {
    "collapsed": true
   },
   "source": [
    "## 8.从GitHub上拉取下来\n",
    "> git fetch   \n",
    "> git pull"
   ]
  },
  {
   "cell_type": "code",
   "execution_count": null,
   "metadata": {
    "collapsed": true
   },
   "outputs": [],
   "source": []
  }
 ],
 "metadata": {
  "kernelspec": {
   "display_name": "Python 3",
   "language": "python",
   "name": "python3"
  },
  "language_info": {
   "codemirror_mode": {
    "name": "ipython",
    "version": 3
   },
   "file_extension": ".py",
   "mimetype": "text/x-python",
   "name": "python",
   "nbconvert_exporter": "python",
   "pygments_lexer": "ipython3",
   "version": "3.6.1"
  }
 },
 "nbformat": 4,
 "nbformat_minor": 2
}
