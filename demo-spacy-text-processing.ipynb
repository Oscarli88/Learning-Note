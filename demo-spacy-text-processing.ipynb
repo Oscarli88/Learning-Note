{
 "cells": [
  {
   "cell_type": "code",
   "execution_count": 20,
   "metadata": {
    "collapsed": true
   },
   "outputs": [],
   "source": [
    "text = \"The sequel, Yes, Prime Minister, ran from 1986 to 1988. In total there were 38 episodes, of which all but one lasted half an hour. Almost all episodes ended with a variation of the title of the series spoken as the answer to a question posed by the same character, Jim Hacker. Several episodes were adapted for BBC Radio, and a stage play was produced in 2010, the latter leading to a new television series on UKTV Gold in 2013.\""
   ]
  },
  {
   "cell_type": "code",
   "execution_count": 21,
   "metadata": {},
   "outputs": [
    {
     "data": {
      "text/plain": [
       "'The sequel, Yes, Prime Minister, ran from 1986 to 1988. In total there were 38 episodes, of which all but one lasted half an hour. Almost all episodes ended with a variation of the title of the series spoken as the answer to a question posed by the same character, Jim Hacker. Several episodes were adapted for BBC Radio, and a stage play was produced in 2010, the latter leading to a new television series on UKTV Gold in 2013.'"
      ]
     },
     "execution_count": 21,
     "metadata": {},
     "output_type": "execute_result"
    }
   ],
   "source": [
    "text"
   ]
  },
  {
   "cell_type": "code",
   "execution_count": 22,
   "metadata": {
    "collapsed": true
   },
   "outputs": [],
   "source": [
    "import spacy"
   ]
  },
  {
   "cell_type": "code",
   "execution_count": 30,
   "metadata": {},
   "outputs": [],
   "source": [
    "nlp = spacy.load('en')"
   ]
  },
  {
   "cell_type": "markdown",
   "metadata": {},
   "source": [
    "用nlp模型分析文本text，将结果命名为doc"
   ]
  },
  {
   "cell_type": "code",
   "execution_count": null,
   "metadata": {
    "collapsed": true
   },
   "outputs": [],
   "source": [
    "doc = nlp(text)"
   ]
  },
  {
   "cell_type": "code",
   "execution_count": 32,
   "metadata": {},
   "outputs": [
    {
     "data": {
      "text/plain": [
       "The sequel, Yes, Prime Minister, ran from 1986 to 1988. In total there were 38 episodes, of which all but one lasted half an hour. Almost all episodes ended with a variation of the title of the series spoken as the answer to a question posed by the same character, Jim Hacker. Several episodes were adapted for BBC Radio, and a stage play was produced in 2010, the latter leading to a new television series on UKTV Gold in 2013."
      ]
     },
     "execution_count": 32,
     "metadata": {},
     "output_type": "execute_result"
    }
   ],
   "source": [
    "doc"
   ]
  },
  {
   "cell_type": "markdown",
   "metadata": {},
   "source": [
    "好像跟刚才的text内容没有区别呀？不还是这段文本吗？别着急，Spacy只是为了让我们看着舒服，所以只打印出来文本内容。\n",
    "\n",
    "其实，它在后台，已经对这段话进行了许多层次的分析。\n",
    "\n",
    "不信？ 我们来试试，让Spacy帮我们分析这段话中出现的全部词例（token）。"
   ]
  },
  {
   "cell_type": "code",
   "execution_count": 37,
   "metadata": {},
   "outputs": [
    {
     "name": "stdout",
     "output_type": "stream",
     "text": [
      "\"  The  \"\n",
      "\"  sequel  \"\n",
      "\"  ,  \"\n",
      "\"  Yes  \"\n",
      "\"  ,  \"\n",
      "\"  Prime  \"\n",
      "\"  Minister  \"\n",
      "\"  ,  \"\n",
      "\"  ran  \"\n",
      "\"  from  \"\n",
      "\"  1986  \"\n",
      "\"  to  \"\n",
      "\"  1988  \"\n",
      "\"  .  \"\n",
      "\"  In  \"\n",
      "\"  total  \"\n",
      "\"  there  \"\n",
      "\"  were  \"\n",
      "\"  38  \"\n",
      "\"  episodes  \"\n",
      "\"  ,  \"\n",
      "\"  of  \"\n",
      "\"  which  \"\n",
      "\"  all  \"\n",
      "\"  but  \"\n",
      "\"  one  \"\n",
      "\"  lasted  \"\n",
      "\"  half  \"\n",
      "\"  an  \"\n",
      "\"  hour  \"\n",
      "\"  .  \"\n",
      "\"  Almost  \"\n",
      "\"  all  \"\n",
      "\"  episodes  \"\n",
      "\"  ended  \"\n",
      "\"  with  \"\n",
      "\"  a  \"\n",
      "\"  variation  \"\n",
      "\"  of  \"\n",
      "\"  the  \"\n",
      "\"  title  \"\n",
      "\"  of  \"\n",
      "\"  the  \"\n",
      "\"  series  \"\n",
      "\"  spoken  \"\n",
      "\"  as  \"\n",
      "\"  the  \"\n",
      "\"  answer  \"\n",
      "\"  to  \"\n",
      "\"  a  \"\n",
      "\"  question  \"\n",
      "\"  posed  \"\n",
      "\"  by  \"\n",
      "\"  the  \"\n",
      "\"  same  \"\n",
      "\"  character  \"\n",
      "\"  ,  \"\n",
      "\"  Jim  \"\n",
      "\"  Hacker  \"\n",
      "\"  .  \"\n",
      "\"  Several  \"\n",
      "\"  episodes  \"\n",
      "\"  were  \"\n",
      "\"  adapted  \"\n",
      "\"  for  \"\n",
      "\"  BBC  \"\n",
      "\"  Radio  \"\n",
      "\"  ,  \"\n",
      "\"  and  \"\n",
      "\"  a  \"\n",
      "\"  stage  \"\n",
      "\"  play  \"\n",
      "\"  was  \"\n",
      "\"  produced  \"\n",
      "\"  in  \"\n",
      "\"  2010  \"\n",
      "\"  ,  \"\n",
      "\"  the  \"\n",
      "\"  latter  \"\n",
      "\"  leading  \"\n",
      "\"  to  \"\n",
      "\"  a  \"\n",
      "\"  new  \"\n",
      "\"  television  \"\n",
      "\"  series  \"\n",
      "\"  on  \"\n",
      "\"  UKTV  \"\n",
      "\"  Gold  \"\n",
      "\"  in  \"\n",
      "\"  2013  \"\n",
      "\"  .  \"\n"
     ]
    }
   ],
   "source": [
    "for token in doc:\n",
    "    print('\"  ' + token.text + '  \"')"
   ]
  },
  {
   "cell_type": "markdown",
   "metadata": {},
   "source": [
    "# 1. 词性分析\n",
    "**除了词例内容本身，Spacy还把每个词例的一些属性信息，进行了处理。**   \n",
    "**下面，我们只对前10个词例（token），输出以下内容：**\n",
    "\n",
    "- 文本\n",
    "- 索引值（即在原文中的定位）\n",
    "- 词元(lemma)\n",
    "- 是否为标点符号\n",
    "- 是否为空格\n",
    "- 词性\n",
    "- 标记"
   ]
  },
  {
   "cell_type": "code",
   "execution_count": 40,
   "metadata": {},
   "outputs": [
    {
     "name": "stdout",
     "output_type": "stream",
     "text": [
      "The\t\t0\tthe\tFalse\tFalse\tXxx\tDET\tDT\n",
      "sequel\t\t4\tsequel\tFalse\tFalse\txxxx\tNOUN\tNN\n",
      ",\t\t10\t,\tTrue\tFalse\t,\tPUNCT\t,\n",
      "Yes\t\t12\tyes\tFalse\tFalse\tXxx\tINTJ\tUH\n",
      ",\t\t15\t,\tTrue\tFalse\t,\tPUNCT\t,\n",
      "Prime\t\t17\tprime\tFalse\tFalse\tXxxxx\tPROPN\tNNP\n",
      "Minister\t\t23\tminister\tFalse\tFalse\tXxxxx\tPROPN\tNNP\n",
      ",\t\t31\t,\tTrue\tFalse\t,\tPUNCT\t,\n",
      "ran\t\t33\trun\tFalse\tFalse\txxx\tVERB\tVBD\n",
      "from\t\t37\tfrom\tFalse\tFalse\txxxx\tADP\tIN\n"
     ]
    }
   ],
   "source": [
    "for token in doc[:10]:\n",
    "    print(\"{0}\\t\\t{1}\\t{2}\\t{3}\\t{4}\\t{5}\\t{6}\\t{7}\".format(\n",
    "        token.text,\n",
    "        token.idx,\n",
    "        token.lemma_,\n",
    "        token.is_punct,\n",
    "        token.is_space,\n",
    "        token.shape_,\n",
    "        token.pos_,\n",
    "        token.tag_\n",
    "    ))"
   ]
  },
  {
   "cell_type": "markdown",
   "metadata": {},
   "source": [
    "    \n",
    "---\n",
    "# 2. 命名实体识别\n",
    "**下面我们不再考虑全部词性，只关注文本中出现的实体（entity）词汇**\n"
   ]
  },
  {
   "cell_type": "code",
   "execution_count": 35,
   "metadata": {},
   "outputs": [
    {
     "name": "stdout",
     "output_type": "stream",
     "text": [
      "1986 to 1988 DATE\n",
      "38 CARDINAL\n",
      "one CARDINAL\n",
      "half an hour TIME\n",
      "Jim Hacker PERSON\n",
      "BBC Radio ORG\n",
      "2010 DATE\n",
      "UKTV Gold ORG\n",
      "2013 DATE\n"
     ]
    }
   ],
   "source": [
    "for ent in doc.ents:\n",
    "    print(ent.text, ent.label_)"
   ]
  },
  {
   "cell_type": "markdown",
   "metadata": {},
   "source": [
    "**在这一段文字中，出现的实体包括日期、时间、基数（Cardinal）……Spacy不仅自动识别出了Jim Hacker为人名，还正确判定BBC Radio和UKTV Gold为机构名称。**\n",
    "\n",
    "如果你平时的工作，需要从海量评论里筛选潜在竞争产品或者竞争者，那看到这里，有没有一点儿灵感呢？\n",
    "\n",
    "执行下面这段代码，看看会发生什么："
   ]
  },
  {
   "cell_type": "code",
   "execution_count": 41,
   "metadata": {},
   "outputs": [
    {
     "data": {
      "text/html": [
       "<div class=\"entities\" style=\"line-height: 2.5\">The sequel, Yes, Prime Minister, ran from \n",
       "<mark class=\"entity\" style=\"background: #bfe1d9; padding: 0.45em 0.6em; margin: 0 0.25em; line-height: 1; border-radius: 0.35em; box-decoration-break: clone; -webkit-box-decoration-break: clone\">\n",
       "    1986 to 1988\n",
       "    <span style=\"font-size: 0.8em; font-weight: bold; line-height: 1; border-radius: 0.35em; text-transform: uppercase; vertical-align: middle; margin-left: 0.5rem\">DATE</span>\n",
       "</mark>\n",
       ". In total there were \n",
       "<mark class=\"entity\" style=\"background: #e4e7d2; padding: 0.45em 0.6em; margin: 0 0.25em; line-height: 1; border-radius: 0.35em; box-decoration-break: clone; -webkit-box-decoration-break: clone\">\n",
       "    38\n",
       "    <span style=\"font-size: 0.8em; font-weight: bold; line-height: 1; border-radius: 0.35em; text-transform: uppercase; vertical-align: middle; margin-left: 0.5rem\">CARDINAL</span>\n",
       "</mark>\n",
       " episodes, of which all but \n",
       "<mark class=\"entity\" style=\"background: #e4e7d2; padding: 0.45em 0.6em; margin: 0 0.25em; line-height: 1; border-radius: 0.35em; box-decoration-break: clone; -webkit-box-decoration-break: clone\">\n",
       "    one\n",
       "    <span style=\"font-size: 0.8em; font-weight: bold; line-height: 1; border-radius: 0.35em; text-transform: uppercase; vertical-align: middle; margin-left: 0.5rem\">CARDINAL</span>\n",
       "</mark>\n",
       " lasted \n",
       "<mark class=\"entity\" style=\"background: #bfe1d9; padding: 0.45em 0.6em; margin: 0 0.25em; line-height: 1; border-radius: 0.35em; box-decoration-break: clone; -webkit-box-decoration-break: clone\">\n",
       "    half an hour\n",
       "    <span style=\"font-size: 0.8em; font-weight: bold; line-height: 1; border-radius: 0.35em; text-transform: uppercase; vertical-align: middle; margin-left: 0.5rem\">TIME</span>\n",
       "</mark>\n",
       ". Almost all episodes ended with a variation of the title of the series spoken as the answer to a question posed by the same character, \n",
       "<mark class=\"entity\" style=\"background: #aa9cfc; padding: 0.45em 0.6em; margin: 0 0.25em; line-height: 1; border-radius: 0.35em; box-decoration-break: clone; -webkit-box-decoration-break: clone\">\n",
       "    Jim Hacker\n",
       "    <span style=\"font-size: 0.8em; font-weight: bold; line-height: 1; border-radius: 0.35em; text-transform: uppercase; vertical-align: middle; margin-left: 0.5rem\">PERSON</span>\n",
       "</mark>\n",
       ". Several episodes were adapted for \n",
       "<mark class=\"entity\" style=\"background: #7aecec; padding: 0.45em 0.6em; margin: 0 0.25em; line-height: 1; border-radius: 0.35em; box-decoration-break: clone; -webkit-box-decoration-break: clone\">\n",
       "    BBC Radio\n",
       "    <span style=\"font-size: 0.8em; font-weight: bold; line-height: 1; border-radius: 0.35em; text-transform: uppercase; vertical-align: middle; margin-left: 0.5rem\">ORG</span>\n",
       "</mark>\n",
       ", and a stage play was produced in \n",
       "<mark class=\"entity\" style=\"background: #bfe1d9; padding: 0.45em 0.6em; margin: 0 0.25em; line-height: 1; border-radius: 0.35em; box-decoration-break: clone; -webkit-box-decoration-break: clone\">\n",
       "    2010\n",
       "    <span style=\"font-size: 0.8em; font-weight: bold; line-height: 1; border-radius: 0.35em; text-transform: uppercase; vertical-align: middle; margin-left: 0.5rem\">DATE</span>\n",
       "</mark>\n",
       ", the latter leading to a new television series on \n",
       "<mark class=\"entity\" style=\"background: #7aecec; padding: 0.45em 0.6em; margin: 0 0.25em; line-height: 1; border-radius: 0.35em; box-decoration-break: clone; -webkit-box-decoration-break: clone\">\n",
       "    UKTV Gold\n",
       "    <span style=\"font-size: 0.8em; font-weight: bold; line-height: 1; border-radius: 0.35em; text-transform: uppercase; vertical-align: middle; margin-left: 0.5rem\">ORG</span>\n",
       "</mark>\n",
       " in \n",
       "<mark class=\"entity\" style=\"background: #bfe1d9; padding: 0.45em 0.6em; margin: 0 0.25em; line-height: 1; border-radius: 0.35em; box-decoration-break: clone; -webkit-box-decoration-break: clone\">\n",
       "    2013\n",
       "    <span style=\"font-size: 0.8em; font-weight: bold; line-height: 1; border-radius: 0.35em; text-transform: uppercase; vertical-align: middle; margin-left: 0.5rem\">DATE</span>\n",
       "</mark>\n",
       ".</div>"
      ],
      "text/plain": [
       "<IPython.core.display.HTML object>"
      ]
     },
     "metadata": {},
     "output_type": "display_data"
    }
   ],
   "source": [
    "from spacy import displacy\n",
    "displacy.render(doc, style='ent', jupyter=True)"
   ]
  },
  {
   "cell_type": "markdown",
   "metadata": {},
   "source": [
    "**如上图所示，Spacy帮我们把实体识别的结果，进行了直观的可视化。不同类别的实体，还采用了不同的颜色加以区分。**\n",
    "\n",
    "---\n",
    "###  **把一段文字拆解为语句，对Spacy而言，也是小菜一碟。**"
   ]
  },
  {
   "cell_type": "code",
   "execution_count": 42,
   "metadata": {},
   "outputs": [
    {
     "name": "stdout",
     "output_type": "stream",
     "text": [
      "The sequel, Yes, Prime Minister, ran from 1986 to 1988.\n",
      "In total there were 38 episodes, of which all but one lasted half an hour.\n",
      "Almost all episodes ended with a variation of the title of the series spoken as the answer to a question posed by the same character, Jim Hacker.\n",
      "Several episodes were adapted for BBC Radio, and a stage play was produced in 2010, the latter leading to a new television series on UKTV Gold in 2013.\n"
     ]
    }
   ],
   "source": [
    "for sent in doc.sents:\n",
    "    print(sent)"
   ]
  },
  {
   "cell_type": "markdown",
   "metadata": {},
   "source": [
    "---\n",
    "**注意这里，doc.sents并不是个列表类型，而是一个生成器 generator **    \n",
    "**所以，假设我们需要从中筛选出某一句话，需要先将其转化为列表。**"
   ]
  },
  {
   "cell_type": "code",
   "execution_count": 43,
   "metadata": {},
   "outputs": [
    {
     "data": {
      "text/plain": [
       "<generator at 0x270920e37b8>"
      ]
     },
     "execution_count": 43,
     "metadata": {},
     "output_type": "execute_result"
    }
   ],
   "source": [
    "doc.sents"
   ]
  },
  {
   "cell_type": "code",
   "execution_count": 44,
   "metadata": {},
   "outputs": [
    {
     "data": {
      "text/plain": [
       "[The sequel, Yes, Prime Minister, ran from 1986 to 1988.,\n",
       " In total there were 38 episodes, of which all but one lasted half an hour.,\n",
       " Almost all episodes ended with a variation of the title of the series spoken as the answer to a question posed by the same character, Jim Hacker.,\n",
       " Several episodes were adapted for BBC Radio, and a stage play was produced in 2010, the latter leading to a new television series on UKTV Gold in 2013.]"
      ]
     },
     "execution_count": 44,
     "metadata": {},
     "output_type": "execute_result"
    }
   ],
   "source": [
    "list(doc.sents)"
   ]
  },
  {
   "cell_type": "markdown",
   "metadata": {},
   "source": [
    "------\n",
    "# 3. 语法 --- 依赖关系刻画\n",
    "\n",
    "下面要展示的功能，分析范围局限在第一句话。\n",
    "\n",
    "我们将其抽取出来，并且重新用nlp模型处理，存入到新的变量newdoc中。"
   ]
  },
  {
   "cell_type": "code",
   "execution_count": 48,
   "metadata": {
    "collapsed": true
   },
   "outputs": [],
   "source": [
    "newdoc = nlp(list(doc.sents)[0].text)"
   ]
  },
  {
   "cell_type": "code",
   "execution_count": 49,
   "metadata": {},
   "outputs": [
    {
     "data": {
      "text/plain": [
       "The sequel, Yes, Prime Minister, ran from 1986 to 1988."
      ]
     },
     "execution_count": 49,
     "metadata": {},
     "output_type": "execute_result"
    }
   ],
   "source": [
    "newdoc"
   ]
  },
  {
   "cell_type": "markdown",
   "metadata": {},
   "source": [
    "**对这一句话，我们想要搞清其中每一个词例（token）之间的依赖关系。**"
   ]
  },
  {
   "cell_type": "code",
   "execution_count": 51,
   "metadata": {},
   "outputs": [
    {
     "name": "stdout",
     "output_type": "stream",
     "text": [
      "The(DT) <--det-- sequel(NN)\n",
      "sequel(NN) <--nsubj-- ran(VBD)\n",
      ",(,) <--punct-- sequel(NN)\n",
      "Yes(UH) <--intj-- sequel(NN)\n",
      ",(,) <--punct-- sequel(NN)\n",
      "Prime(NNP) <--compound-- Minister(NNP)\n",
      "Minister(NNP) <--appos-- sequel(NN)\n",
      ",(,) <--punct-- sequel(NN)\n",
      "ran(VBD) <--ROOT-- ran(VBD)\n",
      "from(IN) <--prep-- ran(VBD)\n",
      "1986(CD) <--pobj-- from(IN)\n",
      "to(IN) <--prep-- from(IN)\n",
      "1988(CD) <--pobj-- to(IN)\n",
      ".(.) <--punct-- ran(VBD)\n"
     ]
    }
   ],
   "source": [
    "for token in newdoc:\n",
    "    print(\"{0}({1}) <--{2}-- {3}({4})\".format(\n",
    "        token.text, token.tag_, token.dep_, token.head.text, token.head.tag_))"
   ]
  },
  {
   "cell_type": "markdown",
   "metadata": {},
   "source": [
    "### 词性依赖关系可视化\n",
    "**很清晰，但是列表的方式，似乎不大直观。那就让Spacy帮我们可视化吧。**"
   ]
  },
  {
   "cell_type": "code",
   "execution_count": 52,
   "metadata": {},
   "outputs": [
    {
     "data": {
      "text/html": [
       "<svg xmlns=\"http://www.w3.org/2000/svg\" xmlns:xlink=\"http://www.w3.org/1999/xlink\" id=\"0\" class=\"displacy\" width=\"950\" height=\"317.0\" style=\"max-width: none; height: 317.0px; color: #000000; background: #ffffff; font-family: Arial\">\n",
       "<text class=\"displacy-token\" fill=\"currentColor\" text-anchor=\"middle\" y=\"227.0\">\n",
       "    <tspan class=\"displacy-word\" fill=\"currentColor\" x=\"50\">The</tspan>\n",
       "    <tspan class=\"displacy-tag\" dy=\"2em\" fill=\"currentColor\" x=\"50\">DET</tspan>\n",
       "</text>\n",
       "\n",
       "<text class=\"displacy-token\" fill=\"currentColor\" text-anchor=\"middle\" y=\"227.0\">\n",
       "    <tspan class=\"displacy-word\" fill=\"currentColor\" x=\"140\">sequel,</tspan>\n",
       "    <tspan class=\"displacy-tag\" dy=\"2em\" fill=\"currentColor\" x=\"140\">NOUN</tspan>\n",
       "</text>\n",
       "\n",
       "<text class=\"displacy-token\" fill=\"currentColor\" text-anchor=\"middle\" y=\"227.0\">\n",
       "    <tspan class=\"displacy-word\" fill=\"currentColor\" x=\"230\">Yes,</tspan>\n",
       "    <tspan class=\"displacy-tag\" dy=\"2em\" fill=\"currentColor\" x=\"230\">INTJ</tspan>\n",
       "</text>\n",
       "\n",
       "<text class=\"displacy-token\" fill=\"currentColor\" text-anchor=\"middle\" y=\"227.0\">\n",
       "    <tspan class=\"displacy-word\" fill=\"currentColor\" x=\"320\">Prime</tspan>\n",
       "    <tspan class=\"displacy-tag\" dy=\"2em\" fill=\"currentColor\" x=\"320\">PROPN</tspan>\n",
       "</text>\n",
       "\n",
       "<text class=\"displacy-token\" fill=\"currentColor\" text-anchor=\"middle\" y=\"227.0\">\n",
       "    <tspan class=\"displacy-word\" fill=\"currentColor\" x=\"410\">Minister,</tspan>\n",
       "    <tspan class=\"displacy-tag\" dy=\"2em\" fill=\"currentColor\" x=\"410\">PROPN</tspan>\n",
       "</text>\n",
       "\n",
       "<text class=\"displacy-token\" fill=\"currentColor\" text-anchor=\"middle\" y=\"227.0\">\n",
       "    <tspan class=\"displacy-word\" fill=\"currentColor\" x=\"500\">ran</tspan>\n",
       "    <tspan class=\"displacy-tag\" dy=\"2em\" fill=\"currentColor\" x=\"500\">VERB</tspan>\n",
       "</text>\n",
       "\n",
       "<text class=\"displacy-token\" fill=\"currentColor\" text-anchor=\"middle\" y=\"227.0\">\n",
       "    <tspan class=\"displacy-word\" fill=\"currentColor\" x=\"590\">from</tspan>\n",
       "    <tspan class=\"displacy-tag\" dy=\"2em\" fill=\"currentColor\" x=\"590\">ADP</tspan>\n",
       "</text>\n",
       "\n",
       "<text class=\"displacy-token\" fill=\"currentColor\" text-anchor=\"middle\" y=\"227.0\">\n",
       "    <tspan class=\"displacy-word\" fill=\"currentColor\" x=\"680\">1986</tspan>\n",
       "    <tspan class=\"displacy-tag\" dy=\"2em\" fill=\"currentColor\" x=\"680\">NUM</tspan>\n",
       "</text>\n",
       "\n",
       "<text class=\"displacy-token\" fill=\"currentColor\" text-anchor=\"middle\" y=\"227.0\">\n",
       "    <tspan class=\"displacy-word\" fill=\"currentColor\" x=\"770\">to</tspan>\n",
       "    <tspan class=\"displacy-tag\" dy=\"2em\" fill=\"currentColor\" x=\"770\">ADP</tspan>\n",
       "</text>\n",
       "\n",
       "<text class=\"displacy-token\" fill=\"currentColor\" text-anchor=\"middle\" y=\"227.0\">\n",
       "    <tspan class=\"displacy-word\" fill=\"currentColor\" x=\"860\">1988.</tspan>\n",
       "    <tspan class=\"displacy-tag\" dy=\"2em\" fill=\"currentColor\" x=\"860\">NUM</tspan>\n",
       "</text>\n",
       "\n",
       "<g class=\"displacy-arrow\">\n",
       "    <path class=\"displacy-arc\" id=\"arrow-0-0\" stroke-width=\"2px\" d=\"M70,182.0 C70,137.0 125.0,137.0 125.0,182.0\" fill=\"none\" stroke=\"currentColor\"/>\n",
       "    <text dy=\"1.25em\" style=\"font-size: 0.8em; letter-spacing: 1px\">\n",
       "        <textPath xlink:href=\"#arrow-0-0\" class=\"displacy-label\" startOffset=\"50%\" fill=\"currentColor\" text-anchor=\"middle\">det</textPath>\n",
       "    </text>\n",
       "    <path class=\"displacy-arrowhead\" d=\"M70,184.0 L62,172.0 78,172.0\" fill=\"currentColor\"/>\n",
       "</g>\n",
       "\n",
       "<g class=\"displacy-arrow\">\n",
       "    <path class=\"displacy-arc\" id=\"arrow-0-1\" stroke-width=\"2px\" d=\"M160,182.0 C160,2.0 500.0,2.0 500.0,182.0\" fill=\"none\" stroke=\"currentColor\"/>\n",
       "    <text dy=\"1.25em\" style=\"font-size: 0.8em; letter-spacing: 1px\">\n",
       "        <textPath xlink:href=\"#arrow-0-1\" class=\"displacy-label\" startOffset=\"50%\" fill=\"currentColor\" text-anchor=\"middle\">nsubj</textPath>\n",
       "    </text>\n",
       "    <path class=\"displacy-arrowhead\" d=\"M160,184.0 L152,172.0 168,172.0\" fill=\"currentColor\"/>\n",
       "</g>\n",
       "\n",
       "<g class=\"displacy-arrow\">\n",
       "    <path class=\"displacy-arc\" id=\"arrow-0-2\" stroke-width=\"2px\" d=\"M160,182.0 C160,137.0 215.0,137.0 215.0,182.0\" fill=\"none\" stroke=\"currentColor\"/>\n",
       "    <text dy=\"1.25em\" style=\"font-size: 0.8em; letter-spacing: 1px\">\n",
       "        <textPath xlink:href=\"#arrow-0-2\" class=\"displacy-label\" startOffset=\"50%\" fill=\"currentColor\" text-anchor=\"middle\">intj</textPath>\n",
       "    </text>\n",
       "    <path class=\"displacy-arrowhead\" d=\"M215.0,184.0 L223.0,172.0 207.0,172.0\" fill=\"currentColor\"/>\n",
       "</g>\n",
       "\n",
       "<g class=\"displacy-arrow\">\n",
       "    <path class=\"displacy-arc\" id=\"arrow-0-3\" stroke-width=\"2px\" d=\"M340,182.0 C340,137.0 395.0,137.0 395.0,182.0\" fill=\"none\" stroke=\"currentColor\"/>\n",
       "    <text dy=\"1.25em\" style=\"font-size: 0.8em; letter-spacing: 1px\">\n",
       "        <textPath xlink:href=\"#arrow-0-3\" class=\"displacy-label\" startOffset=\"50%\" fill=\"currentColor\" text-anchor=\"middle\">compound</textPath>\n",
       "    </text>\n",
       "    <path class=\"displacy-arrowhead\" d=\"M340,184.0 L332,172.0 348,172.0\" fill=\"currentColor\"/>\n",
       "</g>\n",
       "\n",
       "<g class=\"displacy-arrow\">\n",
       "    <path class=\"displacy-arc\" id=\"arrow-0-4\" stroke-width=\"2px\" d=\"M160,182.0 C160,47.0 405.0,47.0 405.0,182.0\" fill=\"none\" stroke=\"currentColor\"/>\n",
       "    <text dy=\"1.25em\" style=\"font-size: 0.8em; letter-spacing: 1px\">\n",
       "        <textPath xlink:href=\"#arrow-0-4\" class=\"displacy-label\" startOffset=\"50%\" fill=\"currentColor\" text-anchor=\"middle\">appos</textPath>\n",
       "    </text>\n",
       "    <path class=\"displacy-arrowhead\" d=\"M405.0,184.0 L413.0,172.0 397.0,172.0\" fill=\"currentColor\"/>\n",
       "</g>\n",
       "\n",
       "<g class=\"displacy-arrow\">\n",
       "    <path class=\"displacy-arc\" id=\"arrow-0-5\" stroke-width=\"2px\" d=\"M520,182.0 C520,137.0 575.0,137.0 575.0,182.0\" fill=\"none\" stroke=\"currentColor\"/>\n",
       "    <text dy=\"1.25em\" style=\"font-size: 0.8em; letter-spacing: 1px\">\n",
       "        <textPath xlink:href=\"#arrow-0-5\" class=\"displacy-label\" startOffset=\"50%\" fill=\"currentColor\" text-anchor=\"middle\">prep</textPath>\n",
       "    </text>\n",
       "    <path class=\"displacy-arrowhead\" d=\"M575.0,184.0 L583.0,172.0 567.0,172.0\" fill=\"currentColor\"/>\n",
       "</g>\n",
       "\n",
       "<g class=\"displacy-arrow\">\n",
       "    <path class=\"displacy-arc\" id=\"arrow-0-6\" stroke-width=\"2px\" d=\"M610,182.0 C610,137.0 665.0,137.0 665.0,182.0\" fill=\"none\" stroke=\"currentColor\"/>\n",
       "    <text dy=\"1.25em\" style=\"font-size: 0.8em; letter-spacing: 1px\">\n",
       "        <textPath xlink:href=\"#arrow-0-6\" class=\"displacy-label\" startOffset=\"50%\" fill=\"currentColor\" text-anchor=\"middle\">pobj</textPath>\n",
       "    </text>\n",
       "    <path class=\"displacy-arrowhead\" d=\"M665.0,184.0 L673.0,172.0 657.0,172.0\" fill=\"currentColor\"/>\n",
       "</g>\n",
       "\n",
       "<g class=\"displacy-arrow\">\n",
       "    <path class=\"displacy-arc\" id=\"arrow-0-7\" stroke-width=\"2px\" d=\"M610,182.0 C610,92.0 760.0,92.0 760.0,182.0\" fill=\"none\" stroke=\"currentColor\"/>\n",
       "    <text dy=\"1.25em\" style=\"font-size: 0.8em; letter-spacing: 1px\">\n",
       "        <textPath xlink:href=\"#arrow-0-7\" class=\"displacy-label\" startOffset=\"50%\" fill=\"currentColor\" text-anchor=\"middle\">prep</textPath>\n",
       "    </text>\n",
       "    <path class=\"displacy-arrowhead\" d=\"M760.0,184.0 L768.0,172.0 752.0,172.0\" fill=\"currentColor\"/>\n",
       "</g>\n",
       "\n",
       "<g class=\"displacy-arrow\">\n",
       "    <path class=\"displacy-arc\" id=\"arrow-0-8\" stroke-width=\"2px\" d=\"M790,182.0 C790,137.0 845.0,137.0 845.0,182.0\" fill=\"none\" stroke=\"currentColor\"/>\n",
       "    <text dy=\"1.25em\" style=\"font-size: 0.8em; letter-spacing: 1px\">\n",
       "        <textPath xlink:href=\"#arrow-0-8\" class=\"displacy-label\" startOffset=\"50%\" fill=\"currentColor\" text-anchor=\"middle\">pobj</textPath>\n",
       "    </text>\n",
       "    <path class=\"displacy-arrowhead\" d=\"M845.0,184.0 L853.0,172.0 837.0,172.0\" fill=\"currentColor\"/>\n",
       "</g>\n",
       "</svg>"
      ],
      "text/plain": [
       "<IPython.core.display.HTML object>"
      ]
     },
     "metadata": {},
     "output_type": "display_data"
    }
   ],
   "source": [
    "displacy.render(newdoc, style='dep', jupyter=True, options={'distance': 90})"
   ]
  },
  {
   "cell_type": "markdown",
   "metadata": {},
   "source": [
    "### 分析：\n",
    "这些依赖关系链接上的词汇，都代表什么？\n",
    "\n",
    "如果你对语言学比较了解，应该能看懂。\n",
    "\n",
    "不懂？查查字典嘛。\n",
    "\n",
    "跟语法书对比一下，看看Spacy分析得是否准确。\n",
    "\n",
    "前面我们分析的，属于语法层级。\n",
    "\n",
    "---\n",
    "\n",
    "# 4. 语义 --- 词向量的近似度计算\n",
    "\n",
    "下面我们看语义。\n",
    "\n",
    "我们利用的工具，叫做词嵌入（word embedding）模型。\n",
    "   \n",
    "   \n",
    "例如给你下面这个式子：\n",
    "\n",
    "** ? - woman = king - queen**\n",
    "\n",
    "只要你学过英语，就不难猜到这里大概率应该填写“**man**”。\n",
    "\n",
    "但是，如果你只是用了随机的序号来代表词汇，又如何能够猜到这里正确的填词结果呢？\n",
    "\n",
    "幸好，在深度学习领域，我们可以使用更为顺手的单词向量化工具——**词嵌入（word embeddings ）**。\n",
    "   \n",
    "###  使用词嵌入模型，我们需要Spacy读取一个新的文件。"
   ]
  },
  {
   "cell_type": "code",
   "execution_count": 60,
   "metadata": {},
   "outputs": [
    {
     "data": {
      "text/plain": [
       "array([-3.2239e-01,  3.8982e-01,  6.4522e-01,  8.7596e-02,  4.0262e-01,\n",
       "       -4.1253e-01,  1.3804e-01, -4.0226e-01, -3.0679e-01,  3.6520e+00,\n",
       "       -6.1745e-01, -2.4114e-01,  1.7488e-01, -2.5995e-01, -3.8512e-01,\n",
       "       -1.3747e-01, -3.7446e-01, -8.0867e-01,  2.8081e-01,  2.9735e-01,\n",
       "        1.7901e-01, -3.4726e-02,  7.2466e-02, -5.2111e-01,  7.1858e-02,\n",
       "        1.5913e-01, -6.0877e-01,  1.6604e-01, -9.3809e-02,  2.0030e-01,\n",
       "       -5.0653e-01, -1.4978e-01,  1.7742e-01,  3.2996e-02, -2.1082e-01,\n",
       "       -6.0442e-02, -9.6639e-02, -4.6054e-01, -7.1622e-02, -1.4829e-01,\n",
       "        5.1362e-01, -3.7840e-01, -3.2035e-01, -1.1593e-01, -1.5887e-01,\n",
       "        2.5999e-01,  2.6821e-01,  2.7429e-01, -5.8973e-02, -1.0218e-01,\n",
       "        6.6629e-03,  3.5737e-01,  3.1083e-01,  4.7950e-01,  4.4323e-01,\n",
       "        8.0089e-03,  6.4577e-02, -4.1851e-01,  3.2589e-01, -6.0894e-01,\n",
       "       -3.5944e-01,  1.9116e-01,  1.5910e-02, -1.8912e-01,  1.2646e-01,\n",
       "       -9.6918e-03, -6.5529e-01, -4.1851e-01,  4.0244e-01, -6.7241e-01,\n",
       "       -7.6219e-01,  2.6207e-01, -1.5607e+00,  3.2982e-01, -4.1586e-01,\n",
       "        3.4098e-01, -1.2571e-01, -1.2014e-01,  1.3608e-02, -1.7894e-01,\n",
       "        5.0916e-01, -2.8449e-01, -1.9519e-01,  1.7161e-01, -1.8038e-01,\n",
       "       -3.7242e-01,  2.8779e-01, -9.9446e-01,  3.8110e-01, -3.6687e-01,\n",
       "        6.7859e-01,  4.1517e-01,  1.4029e-04, -9.2324e-02,  1.4499e-01,\n",
       "       -6.3138e-01,  8.5580e-02,  9.8767e-02, -4.2732e-02, -5.1192e-01,\n",
       "       -3.6008e-01,  1.7807e-01,  4.3106e-01, -2.7113e-01,  2.6117e-01,\n",
       "       -1.1093e+00, -5.3453e-02,  1.2964e-01,  7.2043e-02, -2.9840e-01,\n",
       "       -3.0373e-01,  1.2479e-01, -6.2262e-01,  3.1790e-01, -5.0850e-02,\n",
       "       -3.4046e-01, -7.0588e-01,  7.3111e-02, -9.7412e-02,  1.5489e-01,\n",
       "       -1.7524e-01, -9.3642e-02, -4.5105e-01,  3.4972e-01,  2.2643e-01,\n",
       "        3.3525e-01,  2.0722e-01, -5.2710e-01, -3.6449e-01,  6.1503e-02,\n",
       "       -2.8858e-01,  2.8356e-01,  1.2859e-01, -3.3722e-01,  9.9695e-02,\n",
       "        5.4493e-01,  3.4306e-01,  6.4749e-01, -1.3339e-01, -3.0286e-01,\n",
       "       -7.0783e-02,  1.6607e-01, -5.3108e-01, -1.1629e-01,  1.8794e-01,\n",
       "        8.7658e-02,  8.2277e-02, -5.9183e-01, -1.3002e+00, -3.1180e-01,\n",
       "       -4.5598e-02,  2.9376e-01, -1.9878e-01, -4.1425e-01,  3.5388e-01,\n",
       "        2.6559e-01,  3.2310e-01,  1.6575e-01,  1.7211e-01,  1.8798e-01,\n",
       "        2.0010e-01, -1.7585e-01, -1.4383e-01,  4.6441e-01, -3.5426e-01,\n",
       "        3.5655e-02,  2.1650e-01, -6.9591e-01, -1.9097e-03,  3.5148e-01,\n",
       "       -4.4031e-01,  2.5784e-02, -1.6795e-01,  6.7284e-01,  9.0581e-02,\n",
       "       -1.8994e-01,  5.4949e-01,  1.4926e-01,  7.2222e-01, -3.3370e-01,\n",
       "       -5.1958e-01,  3.2437e-01,  1.9644e-01, -1.5863e-01,  1.9083e-03,\n",
       "        5.1186e-01, -9.5662e-02,  2.1656e-02, -1.3161e-01, -1.1805e-01,\n",
       "        1.6575e-01,  2.9505e-01,  4.9018e-01, -4.2977e-01, -1.5993e-01,\n",
       "       -3.6753e-01,  8.7457e-02, -6.8308e-02, -1.5331e-01, -2.7103e-01,\n",
       "       -5.4915e-01,  9.1917e-01,  4.2635e-01, -5.2601e-01,  8.4366e-01,\n",
       "        5.7226e-02,  1.9534e-01, -3.8182e-01, -9.0527e-02,  4.5610e-02,\n",
       "       -9.6872e-03, -6.0501e-01, -2.8681e-01,  2.8389e-01,  6.2697e-01,\n",
       "       -1.0516e-01, -4.8453e-01, -3.2606e-01, -5.7180e-01,  4.4597e-01,\n",
       "       -7.7640e-02,  3.0929e-01,  1.2633e-01,  1.1981e+00,  6.9421e-01,\n",
       "        3.7257e-01, -4.8151e-02,  8.7035e-02, -5.7236e-01,  4.3714e-01,\n",
       "        6.7161e-02,  4.1036e-01, -2.5125e-01, -6.1381e-01,  9.6459e-03,\n",
       "       -5.2952e-01, -2.5677e-01,  2.1411e-01, -2.6532e-01,  5.5811e-02,\n",
       "        8.7852e-02,  1.2621e-01,  3.5266e-01, -5.6351e-01, -3.5930e-01,\n",
       "       -1.3401e-01,  7.7801e-01, -2.5249e-01,  2.0385e-01, -6.5584e-01,\n",
       "       -4.9989e-02,  8.7359e-01,  4.5170e-01, -2.5920e-01,  9.2309e-01,\n",
       "        3.6927e-01,  4.7212e-01, -4.0808e-01, -6.7676e-01,  2.8296e-01,\n",
       "        1.1870e-01,  2.5123e-01,  6.3988e-02,  3.8518e-01, -4.5629e-01,\n",
       "       -4.9095e-01, -2.9056e-01,  1.1609e-01, -1.4937e-01, -3.6742e-01,\n",
       "        1.9663e-01,  4.5344e-01, -1.3246e-01,  3.2582e-01, -3.9982e-01,\n",
       "        1.8979e-01,  3.0114e-01,  7.4952e-01,  7.7731e-02,  1.2773e-01,\n",
       "        5.0207e-02,  3.8849e-02,  1.5883e-01,  1.9287e-01, -4.3273e-01,\n",
       "       -1.1075e-01,  2.8002e-03,  6.2109e-01, -6.8976e-01,  1.1181e-01,\n",
       "        4.9622e-01,  8.5923e-02,  2.5591e-01, -1.4410e-01,  1.6128e-01,\n",
       "        4.0757e-01,  2.0046e-01, -1.0036e-01,  6.1331e-01, -5.2357e-01],\n",
       "      dtype=float32)"
      ]
     },
     "execution_count": 60,
     "metadata": {},
     "output_type": "execute_result"
    }
   ],
   "source": [
    "nlp = spacy.load('en_core_web_lg')\n",
    "nlp.vocab['minister'].vector   # 打印“minister”这个单词对应的向量取值。可以看到，每个单词，用总长度为300的浮点数组成向量来表示。"
   ]
  },
  {
   "cell_type": "markdown",
   "metadata": {},
   "source": [
    "Spacy读入的这个模型，是采用**word2vec**，在海量语料上训练的结果。\n",
    "\n",
    "\n",
    "我们来看看，此时Spacy的**语义近似度**判别能力。\n",
    "\n",
    "这里，我们将4个变量，赋值为对应单词的向量表达结果。"
   ]
  },
  {
   "cell_type": "code",
   "execution_count": 61,
   "metadata": {
    "collapsed": true
   },
   "outputs": [],
   "source": [
    "dog = nlp.vocab[\"dog\"]\n",
    "cat = nlp.vocab[\"cat\"]\n",
    "apple = nlp.vocab[\"apple\"]\n",
    "orange = nlp.vocab[\"orange\"]"
   ]
  },
  {
   "cell_type": "code",
   "execution_count": 62,
   "metadata": {},
   "outputs": [
    {
     "data": {
      "text/plain": [
       "0.80168545"
      ]
     },
     "execution_count": 62,
     "metadata": {},
     "output_type": "execute_result"
    }
   ],
   "source": [
    "dog.similarity(cat)  # 都是宠物，近似度高，可以接受"
   ]
  },
  {
   "cell_type": "code",
   "execution_count": 63,
   "metadata": {},
   "outputs": [
    {
     "data": {
      "text/plain": [
       "0.26339024"
      ]
     },
     "execution_count": 63,
     "metadata": {},
     "output_type": "execute_result"
    }
   ],
   "source": [
    "dog.similarity(apple)  # 一个动物，一个水果，近似度一下子就跌落下来了"
   ]
  },
  {
   "cell_type": "code",
   "execution_count": 64,
   "metadata": {},
   "outputs": [
    {
     "data": {
      "text/plain": [
       "0.2742508"
      ]
     },
     "execution_count": 64,
     "metadata": {},
     "output_type": "execute_result"
    }
   ],
   "source": [
    "dog.similarity(orange)  # 相似度也不高"
   ]
  },
  {
   "cell_type": "code",
   "execution_count": 65,
   "metadata": {},
   "outputs": [
    {
     "data": {
      "text/plain": [
       "0.56189173"
      ]
     },
     "execution_count": 65,
     "metadata": {},
     "output_type": "execute_result"
    }
   ],
   "source": [
    "apple.similarity(orange)  # 水果间近似度，远远超过水果与动物的相似程度"
   ]
  },
  {
   "cell_type": "markdown",
   "metadata": {},
   "source": [
    "测试通过。\n",
    "\n",
    "看来Spacy利用词嵌入模型，对语义有了一定的理解。\n",
    "\n",
    "---\n",
    "\n",
    "下面为了好玩，我们来考考它。\n",
    "\n",
    "这里，我们需要计算词典中可能不存在的向量，因此Spacy自带的**similarity()函数**，就显得不够用了。\n",
    "\n",
    "我们从scipy中，找到相似度计算需要用到的**余弦函数**。"
   ]
  },
  {
   "cell_type": "code",
   "execution_count": 66,
   "metadata": {
    "collapsed": true
   },
   "outputs": [],
   "source": [
    "from scipy.spatial.distance import cosine"
   ]
  },
  {
   "cell_type": "markdown",
   "metadata": {},
   "source": [
    "对比一下，我们直接代入“狗”和“猫”的向量，进行计算"
   ]
  },
  {
   "cell_type": "code",
   "execution_count": 67,
   "metadata": {},
   "outputs": [
    {
     "data": {
      "text/plain": [
       "0.8016855098942641"
      ]
     },
     "execution_count": 67,
     "metadata": {},
     "output_type": "execute_result"
    }
   ],
   "source": [
    "1 - cosine(dog.vector, cat.vector)"
   ]
  },
  {
   "cell_type": "code",
   "execution_count": null,
   "metadata": {
    "collapsed": true
   },
   "outputs": [],
   "source": [
    "除了保留数字外，计算结果与Spacy自带的similarity()运行结果没有差别。\n",
    "\n",
    "我们把它做成一个小函数，专门处理向量输入。"
   ]
  },
  {
   "cell_type": "code",
   "execution_count": 81,
   "metadata": {
    "collapsed": true
   },
   "outputs": [],
   "source": [
    "def vector_similarity(x, y):\n",
    "    return 1 - cosine(x, y)"
   ]
  },
  {
   "cell_type": "code",
   "execution_count": 82,
   "metadata": {},
   "outputs": [
    {
     "data": {
      "text/plain": [
       "0.26339025559276397"
      ]
     },
     "execution_count": 82,
     "metadata": {},
     "output_type": "execute_result"
    }
   ],
   "source": [
    "vector_similarity(dog.vector, apple.vector)   # 测试一下“狗”和“苹果”"
   ]
  },
  {
   "cell_type": "markdown",
   "metadata": {},
   "source": [
    "与刚才的结果对比，也是一致的。\n",
    "\n",
    "---\n",
    "# 重点来了：  ? - woman = king - queen \n",
    "   \n",
    "我们把问号，称为 **guess_word** "
   ]
  },
  {
   "cell_type": "code",
   "execution_count": 83,
   "metadata": {
    "collapsed": true
   },
   "outputs": [],
   "source": [
    "def make_guess_word(words):\n",
    "    [first, second, third] = words\n",
    "    return nlp.vocab[first].vector - nlp.vocab[second].vector + nlp.vocab[third].vector"
   ]
  },
  {
   "cell_type": "markdown",
   "metadata": {},
   "source": [
    "#### 下面的函数就比较暴力了，它其实是用我们计算的 guess_word 取值，和字典中全部词语一一核对近似性。把最为近似的10个候选单词打印出来。"
   ]
  },
  {
   "cell_type": "code",
   "execution_count": 71,
   "metadata": {
    "collapsed": true
   },
   "outputs": [],
   "source": [
    "def get_similar_word(words, scope=nlp.vocab):\n",
    "    \n",
    "    guess_word = make_guess_word(words)\n",
    "\n",
    "    similarities = []\n",
    "\n",
    "    for word in scope:\n",
    "        if not word.has_vector:\n",
    "            continue\n",
    "\n",
    "        similarity = vector_similarity(guess_word, word.vector)\n",
    "        similarities.append((word, similarity))\n",
    "\n",
    "\n",
    "    similarities = sorted(similarities, key=lambda item: -item[1])\n",
    "    print([word[0].text for word in similarities[:10]])"
   ]
  },
  {
   "cell_type": "code",
   "execution_count": 85,
   "metadata": {},
   "outputs": [
    {
     "name": "stdout",
     "output_type": "stream",
     "text": [
      "['MAN', 'Man', 'mAn', 'MAn', 'MaN', 'man', 'mAN', 'WOMAN', 'womAn', 'WOman']\n"
     ]
    }
   ],
   "source": [
    "words = [\"king\", \"queen\", \"woman\"]\n",
    "get_similar_word(words)"
   ]
  },
  {
   "cell_type": "markdown",
   "metadata": {},
   "source": [
    "原来字典里面，“男人”(man)这个词汇有这么多的变形啊。\n",
    "\n",
    "---\n",
    "但是这个例子太经典了，我们尝试个新鲜一些的：\n",
    "###   ? - England = Paris - London\n",
    "    \n",
    "左侧国别，右侧首都，对应来看，自然是巴黎所在的法国（France）。\n",
    "\n",
    "问题是，Spacy能猜对吗？"
   ]
  },
  {
   "cell_type": "code",
   "execution_count": 75,
   "metadata": {},
   "outputs": [
    {
     "name": "stdout",
     "output_type": "stream",
     "text": [
      "['france', 'FRANCE', 'France', 'Paris', 'paris', 'PARIS', 'EUROPE', 'EUrope', 'europe', 'Europe']\n"
     ]
    }
   ],
   "source": [
    "words = [\"Paris\", \"London\", \"England\"]\n",
    "get_similar_word(words)"
   ]
  },
  {
   "cell_type": "markdown",
   "metadata": {},
   "source": [
    "结果很令人振奋，前三个都是“法国”（France）。\n",
    "\n",
    "--- "
   ]
  },
  {
   "cell_type": "markdown",
   "metadata": {},
   "source": [
    "# 5. 词向量降维和可视化\n",
    "下面我们做一个更有趣的事儿，把词向量的300维的高空间维度，压缩到一张纸（二维）上，看看词语之间的相对位置关系。"
   ]
  },
  {
   "cell_type": "code",
   "execution_count": 104,
   "metadata": {
    "collapsed": true
   },
   "outputs": [],
   "source": [
    "import numpy as np\n",
    "embedding = np.array([])  # 把词嵌入矩阵先设定为空。一会儿慢慢填入。\n",
    "word_list = []            # 需要演示的单词列表，也先空着。"
   ]
  },
  {
   "cell_type": "markdown",
   "metadata": {},
   "source": [
    "再次让Spacy遍历“Yes, Minister”维基页面中摘取的那段文字，加入到单词列表中。注意这次我们要进行判断：\n",
    "\n",
    "- 如果是标点，丢弃；\n",
    "- 如果词汇已经在词语列表中，丢弃。"
   ]
  },
  {
   "cell_type": "code",
   "execution_count": 105,
   "metadata": {
    "collapsed": true
   },
   "outputs": [],
   "source": [
    "for token in doc:\n",
    "    if not(token.is_punct) and not(token.text in word_list):\n",
    "        word_list.append(token.text)"
   ]
  },
  {
   "cell_type": "code",
   "execution_count": 106,
   "metadata": {},
   "outputs": [
    {
     "data": {
      "text/plain": [
       "['The',\n",
       " 'sequel',\n",
       " 'Yes',\n",
       " 'Prime',\n",
       " 'Minister',\n",
       " 'ran',\n",
       " 'from',\n",
       " '1986',\n",
       " 'to',\n",
       " '1988',\n",
       " 'In',\n",
       " 'total',\n",
       " 'there',\n",
       " 'were',\n",
       " '38',\n",
       " 'episodes',\n",
       " 'of',\n",
       " 'which',\n",
       " 'all',\n",
       " 'but',\n",
       " 'one',\n",
       " 'lasted',\n",
       " 'half',\n",
       " 'an',\n",
       " 'hour',\n",
       " 'Almost',\n",
       " 'ended',\n",
       " 'with',\n",
       " 'a',\n",
       " 'variation',\n",
       " 'the',\n",
       " 'title',\n",
       " 'series',\n",
       " 'spoken',\n",
       " 'as',\n",
       " 'answer',\n",
       " 'question',\n",
       " 'posed',\n",
       " 'by',\n",
       " 'same',\n",
       " 'character',\n",
       " 'Jim',\n",
       " 'Hacker',\n",
       " 'Several',\n",
       " 'adapted',\n",
       " 'for',\n",
       " 'BBC',\n",
       " 'Radio',\n",
       " 'and',\n",
       " 'stage',\n",
       " 'play',\n",
       " 'was',\n",
       " 'produced',\n",
       " 'in',\n",
       " '2010',\n",
       " 'latter',\n",
       " 'leading',\n",
       " 'new',\n",
       " 'television',\n",
       " 'on',\n",
       " 'UKTV',\n",
       " 'Gold',\n",
       " '2013']"
      ]
     },
     "execution_count": 106,
     "metadata": {},
     "output_type": "execute_result"
    }
   ],
   "source": [
    "word_list"
   ]
  },
  {
   "cell_type": "markdown",
   "metadata": {},
   "source": [
    "检查了一下，一长串（63个）词语列表中，没有出现标点。一切正常。\n",
    "\n",
    "下面，我们把每个词汇对应的空间向量，追加到词嵌入矩阵中。"
   ]
  },
  {
   "cell_type": "code",
   "execution_count": 107,
   "metadata": {},
   "outputs": [
    {
     "data": {
      "text/plain": [
       "(18900,)"
      ]
     },
     "execution_count": 107,
     "metadata": {},
     "output_type": "execute_result"
    }
   ],
   "source": [
    "for word in word_list:\n",
    "    embedding = np.append(embedding, nlp.vocab[word].vector)\n",
    "embedding.shape"
   ]
  },
  {
   "cell_type": "markdown",
   "metadata": {},
   "source": [
    "可以看到，所有的向量内容，都被放在了一个长串上面。这显然不符合我们的要求，我们将不同的单词对应的词向量，拆解到不同行上面去。"
   ]
  },
  {
   "cell_type": "code",
   "execution_count": 108,
   "metadata": {},
   "outputs": [
    {
     "data": {
      "text/plain": [
       "(63, 300)"
      ]
     },
     "execution_count": 108,
     "metadata": {},
     "output_type": "execute_result"
    }
   ],
   "source": [
    "embedding = embedding.reshape(len(word_list), -1)  # 将不同的单词对应的词向量，拆解到不同行上面去\n",
    "embedding.shape    # 变换后词嵌入矩阵的维度"
   ]
  },
  {
   "cell_type": "markdown",
   "metadata": {},
   "source": [
    "63个词汇，每个为长度300的向量，这就对了。\n",
    "\n",
    "---"
   ]
  },
  {
   "cell_type": "code",
   "execution_count": 110,
   "metadata": {
    "collapsed": true
   },
   "outputs": [],
   "source": [
    "from sklearn.manifold import TSNE # 读入TSNE模块\n",
    "tsne = TSNE()   # tsne的作用，是把高维度的词向量（300维）压缩到二维平面上。我们执行这个转换过程：\n",
    "\n",
    "low_dim_embedding = tsne.fit_transform(embedding)"
   ]
  },
  {
   "cell_type": "code",
   "execution_count": 112,
   "metadata": {},
   "outputs": [
    {
     "name": "stdout",
     "output_type": "stream",
     "text": [
      "Populating the interactive namespace from numpy and matplotlib\n"
     ]
    },
    {
     "name": "stderr",
     "output_type": "stream",
     "text": [
      "C:\\Users\\Yemon\\Anaconda3\\lib\\site-packages\\IPython\\core\\magics\\pylab.py:161: UserWarning: pylab import has clobbered these variables: ['text']\n",
      "`%matplotlib` prevents importing * from pylab and numpy\n",
      "  \"\\n`%matplotlib` prevents importing * from pylab and numpy\"\n"
     ]
    }
   ],
   "source": [
    "import matplotlib.pyplot as plt    # 用matplotlib 将二维降维后的词向量们画出来\n",
    "%pylab inline   "
   ]
  },
  {
   "cell_type": "code",
   "execution_count": 113,
   "metadata": {
    "collapsed": true
   },
   "outputs": [],
   "source": [
    "def plot_with_labels(low_dim_embs, labels, filename='tsne.pdf'):\n",
    "    assert low_dim_embs.shape[0] >= len(labels), \"More labels than embeddings\"\n",
    "    plt.figure(figsize=(18, 18))  # in inches\n",
    "    for i, label in enumerate(labels):\n",
    "        x, y = low_dim_embs[i, :]\n",
    "        plt.scatter(x, y)\n",
    "        plt.annotate(label,\n",
    "                 xy=(x, y),\n",
    "                 xytext=(5, 2),\n",
    "                 textcoords='offset points',\n",
    "                 ha='right',\n",
    "                 va='bottom')\n",
    "    plt.savefig(filename)"
   ]
  },
  {
   "cell_type": "code",
   "execution_count": 114,
   "metadata": {},
   "outputs": [
    {
     "data": {
      "image/png": "[encoded data removed]",
      "text/plain": [
       "<matplotlib.figure.Figure at 0x270998e97f0>"
      ]
     },
     "metadata": {},
     "output_type": "display_data"
    }
   ],
   "source": [
    "plot_with_labels(low_dim_embedding, word_list)"
   ]
  },
  {
   "cell_type": "markdown",
   "metadata": {
    "collapsed": true
   },
   "source": [
    "请注意观察图中的几个部分：\n",
    "\n",
    "年份\n",
    "\n",
    "同一单词的大小写形式\n",
    "\n",
    "Radio 和 television\n",
    "\n",
    "a 和 an\n",
    "\n",
    "看看有什么规律没有？\n",
    "\n",
    "我发现了一个有意思的现象——每次运行tsne，产生的二维可视化图都不一样！\n",
    "\n",
    "不过这也正常，因为这段话之中出现的单词，并非都有预先训练好的向量。\n",
    "\n",
    "这样的单词，被Spacy进行了随机化等处理。\n",
    "\n",
    "因此，每一次生成高维向量，结果都不同。不同的高维向量，压缩到二维，结果自然也会有区别。\n",
    "\n",
    "问题来了，如果我希望每次运行的结果都一致，该如何处理呢？\n",
    "\n",
    "这个问题，作为课后思考题，留给你自行解答。\n",
    "\n",
    "细心的你可能发现了，执行完最后一条语句后，页面左侧边栏文件列表中，出现了一个新的pdf文件。"
   ]
  },
  {
   "cell_type": "code",
   "execution_count": null,
   "metadata": {
    "collapsed": true
   },
   "outputs": [],
   "source": []
  }
 ],
 "metadata": {
  "kernelspec": {
   "display_name": "Python 3",
   "language": "python",
   "name": "python3"
  },
  "language_info": {
   "codemirror_mode": {
    "name": "ipython",
    "version": 3
   },
   "file_extension": ".py",
   "mimetype": "text/x-python",
   "name": "python",
   "nbconvert_exporter": "python",
   "pygments_lexer": "ipython3",
   "version": "3.6.1"
  }
 },
 "nbformat": 4,
 "nbformat_minor": 2
}
