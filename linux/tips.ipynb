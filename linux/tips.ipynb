{
 "cells": [
  {
   "cell_type": "markdown",
   "metadata": {},
   "source": [
    "## crond定时任务\n",
    "> **crontab -l**  \n",
    "列出定时任务   \n",
    "> **crontab -e**  \n",
    "编辑定时任务\n"
   ]
  },
  {
   "cell_type": "markdown",
   "metadata": {},
   "source": [
    "## CentOS非root用户安装python3\n",
    "``` bash\n",
    "yum -y install wget gcc make  zlib-devel readline-devel  bzip2-devel ncurses-devel sqlite-devel gdbm-devel xz-devel tk-devel openssl-devel\n",
    "\n",
    "wget https://www.python.org/ftp/python/3.6.1/Python-3.6.1.tar.xz\n",
    "tar -xvf Python-3.6.1.tar.xz\n",
    "cd Python-3.6.1\n",
    "\n",
    "# ./configure --prefix=/usr/local/python3.6 --enable-optimizations  \n",
    "./configure --prefix=/home/用户名/python3.6 --enable-optimizations\n",
    "make\n",
    "make install\n",
    "\n",
    "# ln -s /usr/local/python3.6/bin/python3 /usr/bin/python3  非root用户没有权限，无法执行  \n",
    "\n",
    "```"
   ]
  },
  {
   "cell_type": "markdown",
   "metadata": {},
   "source": [
    "## trick\n",
    "对用户目录下的.bashrc文件添加alias设置   \n",
    "vi ~/.bashrc   \n",
    "添加\n",
    "```\n",
    "alias python3=/home/Raymond/python3/bin/python3.6\n",
    "alias pip3=/home/Raymond/python3/bin/pip3\n",
    "```\n",
    "使用时  \n",
    "sh脚本中要先添加\n",
    "source ~/.bashrc\n",
    "之后再调用python3或者pip3，否则会出错"
   ]
  },
  {
   "cell_type": "code",
   "execution_count": null,
   "metadata": {
    "collapsed": true
   },
   "outputs": [],
   "source": []
  }
 ],
 "metadata": {
  "kernelspec": {
   "display_name": "Python 3",
   "language": "python",
   "name": "python3"
  },
  "language_info": {
   "codemirror_mode": {
    "name": "ipython",
    "version": 3
   },
   "file_extension": ".py",
   "mimetype": "text/x-python",
   "name": "python",
   "nbconvert_exporter": "python",
   "pygments_lexer": "ipython3",
   "version": "3.6.1"
  }
 },
 "nbformat": 4,
 "nbformat_minor": 2
}
